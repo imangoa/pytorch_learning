{
 "cells": [
  {
   "cell_type": "code",
   "execution_count": 1,
   "id": "3f597273",
   "metadata": {},
   "outputs": [],
   "source": [
    "import torch"
   ]
  },
  {
   "cell_type": "markdown",
   "id": "3e8a76b1",
   "metadata": {},
   "source": [
    "## concat，stack"
   ]
  },
  {
   "cell_type": "code",
   "execution_count": 2,
   "id": "c96ae370",
   "metadata": {},
   "outputs": [],
   "source": [
    "x = torch.full((3,2),3.14)"
   ]
  },
  {
   "cell_type": "code",
   "execution_count": 6,
   "id": "c4835d39",
   "metadata": {},
   "outputs": [],
   "source": [
    "y = torch.ones_like(x)"
   ]
  },
  {
   "cell_type": "code",
   "execution_count": 7,
   "id": "1d588596",
   "metadata": {},
   "outputs": [
    {
     "data": {
      "text/plain": [
       "(tensor([[3.1400, 3.1400],\n",
       "         [3.1400, 3.1400],\n",
       "         [3.1400, 3.1400]]),\n",
       " tensor([[1., 1.],\n",
       "         [1., 1.],\n",
       "         [1., 1.]]))"
      ]
     },
     "execution_count": 7,
     "metadata": {},
     "output_type": "execute_result"
    }
   ],
   "source": [
    "x,y"
   ]
  },
  {
   "cell_type": "code",
   "execution_count": 22,
   "id": "748efbde",
   "metadata": {},
   "outputs": [
    {
     "data": {
      "text/plain": [
       "tensor([[3.1400, 3.1400, 1.0000, 1.0000],\n",
       "        [3.1400, 3.1400, 1.0000, 1.0000],\n",
       "        [3.1400, 3.1400, 1.0000, 1.0000]])"
      ]
     },
     "execution_count": 22,
     "metadata": {},
     "output_type": "execute_result"
    }
   ],
   "source": [
    "z = torch.cat((x,y),dim=1)\n",
    "z"
   ]
  },
  {
   "cell_type": "code",
   "execution_count": 23,
   "id": "abbd9891",
   "metadata": {},
   "outputs": [
    {
     "data": {
      "text/plain": [
       "tensor([[3.1400, 3.1400],\n",
       "        [3.1400, 3.1400],\n",
       "        [3.1400, 3.1400],\n",
       "        [1.0000, 1.0000],\n",
       "        [1.0000, 1.0000],\n",
       "        [1.0000, 1.0000]])"
      ]
     },
     "execution_count": 23,
     "metadata": {},
     "output_type": "execute_result"
    }
   ],
   "source": [
    "z = torch.cat((x,y),dim=0)\n",
    "z"
   ]
  },
  {
   "cell_type": "code",
   "execution_count": 21,
   "id": "5fec6eb7",
   "metadata": {},
   "outputs": [
    {
     "data": {
      "text/plain": [
       "tensor([[[3.1400, 3.1400],\n",
       "         [3.1400, 3.1400],\n",
       "         [3.1400, 3.1400]],\n",
       "\n",
       "        [[1.0000, 1.0000],\n",
       "         [1.0000, 1.0000],\n",
       "         [1.0000, 1.0000]]])"
      ]
     },
     "execution_count": 21,
     "metadata": {},
     "output_type": "execute_result"
    }
   ],
   "source": [
    "k = torch.stack((x,y),dim=0)\n",
    "k  #一般用来将list转为torch.tensor"
   ]
  },
  {
   "cell_type": "code",
   "execution_count": 24,
   "id": "69f1ef09",
   "metadata": {},
   "outputs": [
    {
     "data": {
      "text/plain": [
       "tensor([[[3.1400, 3.1400],\n",
       "         [1.0000, 1.0000]],\n",
       "\n",
       "        [[3.1400, 3.1400],\n",
       "         [1.0000, 1.0000]],\n",
       "\n",
       "        [[3.1400, 3.1400],\n",
       "         [1.0000, 1.0000]]])"
      ]
     },
     "execution_count": 24,
     "metadata": {},
     "output_type": "execute_result"
    }
   ],
   "source": [
    "k = torch.stack((x,y),dim=1)\n",
    "k  #一般用来将list转为torch.tensor"
   ]
  },
  {
   "cell_type": "code",
   "execution_count": 25,
   "id": "602d1a97",
   "metadata": {},
   "outputs": [
    {
     "data": {
      "text/plain": [
       "tensor([[[3.1400, 1.0000],\n",
       "         [3.1400, 1.0000]],\n",
       "\n",
       "        [[3.1400, 1.0000],\n",
       "         [3.1400, 1.0000]],\n",
       "\n",
       "        [[3.1400, 1.0000],\n",
       "         [3.1400, 1.0000]]])"
      ]
     },
     "execution_count": 25,
     "metadata": {},
     "output_type": "execute_result"
    }
   ],
   "source": [
    "k = torch.stack((x,y),dim=2)\n",
    "k  #一般用来将list转为torch.tensor"
   ]
  },
  {
   "cell_type": "markdown",
   "id": "5ad87150",
   "metadata": {},
   "source": [
    "dim怎么解释？\n",
    "1. dim从外层到里层，从0开始递增\n",
    "2. concat会从dim层拆开，然后将两个张量从该位置合并\n",
    "3. stack则不会拆开原有的，直接在合并位置再加一层\n",
    "4. 所以，stack可以取的dim维度要比concat多一维\n",
    "\n",
    "Concatenates the given sequence of seq tensors in the given dimension. All tensors must either have the same shape (except in the concatenating dimension) or be empty.\n",
    "\n",
    "torch.stack() concatenates the given sequence along a new dimension.\n"
   ]
  },
  {
   "cell_type": "markdown",
   "id": "b9fd612b",
   "metadata": {},
   "source": [
    "## slice"
   ]
  },
  {
   "cell_type": "code",
   "execution_count": 30,
   "id": "6a35e60c",
   "metadata": {},
   "outputs": [
    {
     "data": {
      "text/plain": [
       "(tensor([0, 1]),\n",
       " tensor([2, 3]),\n",
       " tensor([4, 5]),\n",
       " tensor([6, 7]),\n",
       " tensor([8, 9]),\n",
       " tensor([10]))"
      ]
     },
     "execution_count": 30,
     "metadata": {},
     "output_type": "execute_result"
    }
   ],
   "source": [
    "x= torch.arange(11).chunk(6) #将tensor切割为n个元组\n",
    "x"
   ]
  },
  {
   "cell_type": "code",
   "execution_count": 42,
   "id": "58ab6a42",
   "metadata": {},
   "outputs": [
    {
     "data": {
      "text/plain": [
       "tensor([[ 0,  1,  2,  3],\n",
       "        [ 4,  5,  6,  7],\n",
       "        [ 8,  9, 10, 11]])"
      ]
     },
     "execution_count": 42,
     "metadata": {},
     "output_type": "execute_result"
    }
   ],
   "source": [
    "x = torch.arange(12).reshape(3,4)\n",
    "x.chunk(2,1)\n",
    "x"
   ]
  },
  {
   "cell_type": "markdown",
   "id": "e0343721",
   "metadata": {},
   "source": [
    "**chunk和concat为反作用**"
   ]
  },
  {
   "cell_type": "code",
   "execution_count": 73,
   "id": "aad62235",
   "metadata": {},
   "outputs": [
    {
     "data": {
      "text/plain": [
       "tensor([[1, 4],\n",
       "        [2, 5],\n",
       "        [3, 6]])"
      ]
     },
     "execution_count": 73,
     "metadata": {},
     "output_type": "execute_result"
    }
   ],
   "source": [
    "a = torch.tensor([1, 2, 3])\n",
    "b = torch.tensor([4, 5, 6])\n",
    "torch.column_stack((a, b))\n",
    "# a = torch.arange(5)\n",
    "# b = torch.arange(10).reshape(5, 2)\n",
    "# torch.column_stack((a, b, b))"
   ]
  },
  {
   "cell_type": "code",
   "execution_count": 74,
   "id": "799894b3",
   "metadata": {},
   "outputs": [
    {
     "name": "stdout",
     "output_type": "stream",
     "text": [
      "tensor([[[[[[1, 2, 3]]]]]])\n",
      "tensor([1, 2, 3])\n",
      "torch.Size([1, 3])\n"
     ]
    }
   ],
   "source": [
    "x = torch.tensor([1,2,3]).reshape(1,1,1,1,1,-1) \n",
    "print(x)\n",
    "x = torch.squeeze(x)\n",
    "print(x)\n",
    "x = torch.unsqueeze(x,dim=0)\n",
    "print(x.shape)"
   ]
  },
  {
   "cell_type": "code",
   "execution_count": 75,
   "id": "f4ba3669",
   "metadata": {},
   "outputs": [
    {
     "data": {
      "text/plain": [
       "torch.Size([5, 2, 3])"
      ]
     },
     "execution_count": 75,
     "metadata": {},
     "output_type": "execute_result"
    }
   ],
   "source": [
    "x = torch.randn(2, 3, 5)\n",
    "x = torch.permute(x,(2,0,1))\n",
    "x.shape"
   ]
  },
  {
   "cell_type": "code",
   "execution_count": 84,
   "id": "9d52ea6e",
   "metadata": {},
   "outputs": [
    {
     "data": {
      "text/plain": [
       "torch.Size([5, 2, 3])"
      ]
     },
     "execution_count": 84,
     "metadata": {},
     "output_type": "execute_result"
    }
   ],
   "source": [
    "x = x.transpose(0,1)\n",
    "x.shape"
   ]
  },
  {
   "cell_type": "code",
   "execution_count": 86,
   "id": "2da12e4f",
   "metadata": {},
   "outputs": [
    {
     "data": {
      "text/plain": [
       "tensor([[ 1.4333e-02,  1.6326e-03],\n",
       "        [-1.0143e+00,  2.6586e-01],\n",
       "        [ 7.8666e-01, -1.3057e+00],\n",
       "        [-6.2783e-01, -7.3164e-01],\n",
       "        [ 4.1547e-01, -1.6882e+00]])"
      ]
     },
     "execution_count": 86,
     "metadata": {},
     "output_type": "execute_result"
    }
   ],
   "source": [
    "y=x[...,1]\n",
    "y"
   ]
  },
  {
   "cell_type": "markdown",
   "id": "7ce8223b",
   "metadata": {},
   "source": [
    "Return a tensor of elements selected from either input or other, depending on condition.\n",
    "\n",
    "The operation is defined as:\n",
    "### where\n"
   ]
  },
  {
   "cell_type": "code",
   "execution_count": 96,
   "id": "3987b87e",
   "metadata": {},
   "outputs": [
    {
     "data": {
      "text/plain": [
       "tensor([[0, 1],\n",
       "        [0, 0],\n",
       "        [1, 1]])"
      ]
     },
     "execution_count": 96,
     "metadata": {},
     "output_type": "execute_result"
    }
   ],
   "source": [
    "x = torch.randn(3,2)\n",
    "y = torch.ones_like(x)\n",
    "torch.where(x>0,0,1)\n",
    "#将符合条件的值设为0，不符合的设为1"
   ]
  }
 ],
 "metadata": {
  "kernelspec": {
   "display_name": "Python 3 (ipykernel)",
   "language": "python",
   "name": "python3"
  },
  "language_info": {
   "codemirror_mode": {
    "name": "ipython",
    "version": 3
   },
   "file_extension": ".py",
   "mimetype": "text/x-python",
   "name": "python",
   "nbconvert_exporter": "python",
   "pygments_lexer": "ipython3",
   "version": "3.8.17"
  }
 },
 "nbformat": 4,
 "nbformat_minor": 5
}
